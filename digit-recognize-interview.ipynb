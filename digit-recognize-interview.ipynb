{
 "cells": [
  {
   "cell_type": "code",
   "execution_count": 1,
   "metadata": {
    "_cell_guid": "b1076dfc-b9ad-4769-8c92-a6c4dae69d19",
    "_uuid": "8f2839f25d086af736a60e9eeb907d3b93b6e0e5",
    "execution": {
     "iopub.execute_input": "2021-01-20T02:33:58.231545Z",
     "iopub.status.busy": "2021-01-20T02:33:58.230704Z",
     "iopub.status.idle": "2021-01-20T02:33:58.238735Z",
     "shell.execute_reply": "2021-01-20T02:33:58.239281Z"
    },
    "papermill": {
     "duration": 0.031229,
     "end_time": "2021-01-20T02:33:58.239549",
     "exception": false,
     "start_time": "2021-01-20T02:33:58.208320",
     "status": "completed"
    },
    "tags": []
   },
   "outputs": [
    {
     "name": "stdout",
     "output_type": "stream",
     "text": [
      "/kaggle/input/digit-recognizer/sample_submission.csv\n",
      "/kaggle/input/digit-recognizer/train.csv\n",
      "/kaggle/input/digit-recognizer/test.csv\n"
     ]
    }
   ],
   "source": [
    "# This Python 3 environment comes with many helpful analytics libraries installed\n",
    "# It is defined by the kaggle/python Docker image: https://github.com/kaggle/docker-python\n",
    "# For example, here's several helpful packages to load\n",
    "\n",
    "import numpy as np # linear algebra\n",
    "import pandas as pd # data processing, CSV file I/O (e.g. pd.read_csv)\n",
    "\n",
    "# Input data files are available in the read-only \"../input/\" directory\n",
    "# For example, running this (by clicking run or pressing Shift+Enter) will list all files under the input directory\n",
    "\n",
    "import os\n",
    "for dirname, _, filenames in os.walk('/kaggle/input'):\n",
    "    for filename in filenames:\n",
    "        print(os.path.join(dirname, filename))\n",
    "\n",
    "# You can write up to 20GB to the current directory (/kaggle/working/) that gets preserved as output when you create a version using \"Save & Run All\" \n",
    "# You can also write temporary files to /kaggle/temp/, but they won't be saved outside of the current session"
   ]
  },
  {
   "cell_type": "code",
   "execution_count": 2,
   "metadata": {
    "_cell_guid": "79c7e3d0-c299-4dcb-8224-4455121ee9b0",
    "_uuid": "d629ff2d2480ee46fbb7e2d37f6b5fab8052498a",
    "execution": {
     "iopub.execute_input": "2021-01-20T02:33:58.277522Z",
     "iopub.status.busy": "2021-01-20T02:33:58.276772Z",
     "iopub.status.idle": "2021-01-20T02:34:05.189028Z",
     "shell.execute_reply": "2021-01-20T02:34:05.188352Z"
    },
    "papermill": {
     "duration": 6.93163,
     "end_time": "2021-01-20T02:34:05.189152",
     "exception": false,
     "start_time": "2021-01-20T02:33:58.257522",
     "status": "completed"
    },
    "tags": []
   },
   "outputs": [
    {
     "data": {
      "text/plain": [
       "(42000, 785)"
      ]
     },
     "execution_count": 2,
     "metadata": {},
     "output_type": "execute_result"
    }
   ],
   "source": [
    "test=pd.read_csv('../input/digit-recognizer/test.csv')\n",
    "train=pd.read_csv('../input/digit-recognizer/train.csv')\n",
    "train.shape\n"
   ]
  },
  {
   "cell_type": "code",
   "execution_count": 3,
   "metadata": {
    "execution": {
     "iopub.execute_input": "2021-01-20T02:34:05.229128Z",
     "iopub.status.busy": "2021-01-20T02:34:05.228408Z",
     "iopub.status.idle": "2021-01-20T02:34:05.233259Z",
     "shell.execute_reply": "2021-01-20T02:34:05.232721Z"
    },
    "papermill": {
     "duration": 0.026941,
     "end_time": "2021-01-20T02:34:05.233402",
     "exception": false,
     "start_time": "2021-01-20T02:34:05.206461",
     "status": "completed"
    },
    "tags": []
   },
   "outputs": [
    {
     "data": {
      "text/plain": [
       "(28000, 784)"
      ]
     },
     "execution_count": 3,
     "metadata": {},
     "output_type": "execute_result"
    }
   ],
   "source": [
    "test.shape"
   ]
  },
  {
   "cell_type": "code",
   "execution_count": 4,
   "metadata": {
    "execution": {
     "iopub.execute_input": "2021-01-20T02:34:05.281608Z",
     "iopub.status.busy": "2021-01-20T02:34:05.280728Z",
     "iopub.status.idle": "2021-01-20T02:34:13.734924Z",
     "shell.execute_reply": "2021-01-20T02:34:13.735448Z"
    },
    "papermill": {
     "duration": 8.484608,
     "end_time": "2021-01-20T02:34:13.735602",
     "exception": false,
     "start_time": "2021-01-20T02:34:05.250994",
     "status": "completed"
    },
    "tags": []
   },
   "outputs": [],
   "source": [
    "import matplotlib.pyplot as plt\n",
    "import matplotlib.image as mpimg\n",
    "import seaborn as sns\n",
    "%matplotlib inline\n",
    "\n",
    "np.random.seed(2)\n",
    "\n",
    "from sklearn.model_selection import train_test_split\n",
    "from sklearn.metrics import confusion_matrix\n",
    "\n",
    "\n",
    "from keras.utils.np_utils import to_categorical # convert to one-hot-encoding\n",
    "from keras.models import Sequential\n",
    "from keras.layers import Dense, Dropout, Flatten, Conv2D, MaxPool2D\n",
    "from keras.optimizers import RMSprop\n",
    "from keras.callbacks import ReduceLROnPlateau\n",
    "\n",
    "\n",
    "sns.set(style='white', context='notebook', palette='deep')"
   ]
  },
  {
   "cell_type": "code",
   "execution_count": 5,
   "metadata": {
    "execution": {
     "iopub.execute_input": "2021-01-20T02:34:13.783611Z",
     "iopub.status.busy": "2021-01-20T02:34:13.782927Z",
     "iopub.status.idle": "2021-01-20T02:34:14.422404Z",
     "shell.execute_reply": "2021-01-20T02:34:14.421288Z"
    },
    "papermill": {
     "duration": 0.669223,
     "end_time": "2021-01-20T02:34:14.422573",
     "exception": false,
     "start_time": "2021-01-20T02:34:13.753350",
     "status": "completed"
    },
    "tags": []
   },
   "outputs": [
    {
     "data": {
      "text/plain": [
       "1    4684\n",
       "7    4401\n",
       "3    4351\n",
       "9    4188\n",
       "2    4177\n",
       "6    4137\n",
       "0    4132\n",
       "4    4072\n",
       "8    4063\n",
       "5    3795\n",
       "Name: label, dtype: int64"
      ]
     },
     "execution_count": 5,
     "metadata": {},
     "output_type": "execute_result"
    },
    {
     "data": {
      "image/png": "[encoded data removed]",
      "text/plain": [
       "<Figure size 432x288 with 1 Axes>"
      ]
     },
     "metadata": {},
     "output_type": "display_data"
    }
   ],
   "source": [
    "\n",
    "Y_train = train[\"label\"]\n",
    "\n",
    "# Drop 'label' column\n",
    "X_train = train.drop(labels = [\"label\"],axis = 1) \n",
    "\n",
    "# free some space\n",
    "del train \n",
    "\n",
    "g = sns.countplot(Y_train)\n",
    "\n",
    "Y_train.value_counts()"
   ]
  },
  {
   "cell_type": "code",
   "execution_count": 6,
   "metadata": {
    "execution": {
     "iopub.execute_input": "2021-01-20T02:34:14.469869Z",
     "iopub.status.busy": "2021-01-20T02:34:14.468256Z",
     "iopub.status.idle": "2021-01-20T02:34:14.515354Z",
     "shell.execute_reply": "2021-01-20T02:34:14.514484Z"
    },
    "papermill": {
     "duration": 0.073041,
     "end_time": "2021-01-20T02:34:14.515506",
     "exception": false,
     "start_time": "2021-01-20T02:34:14.442465",
     "status": "completed"
    },
    "tags": []
   },
   "outputs": [
    {
     "data": {
      "text/plain": [
       "count       784\n",
       "unique        1\n",
       "top       False\n",
       "freq        784\n",
       "dtype: object"
      ]
     },
     "execution_count": 6,
     "metadata": {},
     "output_type": "execute_result"
    }
   ],
   "source": [
    "# Check the data\n",
    "X_train.isnull().any().describe()"
   ]
  },
  {
   "cell_type": "code",
   "execution_count": 7,
   "metadata": {
    "execution": {
     "iopub.execute_input": "2021-01-20T02:34:14.560763Z",
     "iopub.status.busy": "2021-01-20T02:34:14.560084Z",
     "iopub.status.idle": "2021-01-20T02:34:14.577118Z",
     "shell.execute_reply": "2021-01-20T02:34:14.577600Z"
    },
    "papermill": {
     "duration": 0.042513,
     "end_time": "2021-01-20T02:34:14.577747",
     "exception": false,
     "start_time": "2021-01-20T02:34:14.535234",
     "status": "completed"
    },
    "tags": []
   },
   "outputs": [
    {
     "data": {
      "text/plain": [
       "count       784\n",
       "unique        1\n",
       "top       False\n",
       "freq        784\n",
       "dtype: object"
      ]
     },
     "execution_count": 7,
     "metadata": {},
     "output_type": "execute_result"
    }
   ],
   "source": [
    "test.isnull().any().describe()"
   ]
  },
  {
   "cell_type": "code",
   "execution_count": 8,
   "metadata": {
    "execution": {
     "iopub.execute_input": "2021-01-20T02:34:14.622717Z",
     "iopub.status.busy": "2021-01-20T02:34:14.621737Z",
     "iopub.status.idle": "2021-01-20T02:34:14.837406Z",
     "shell.execute_reply": "2021-01-20T02:34:14.836749Z"
    },
    "papermill": {
     "duration": 0.23941,
     "end_time": "2021-01-20T02:34:14.837536",
     "exception": false,
     "start_time": "2021-01-20T02:34:14.598126",
     "status": "completed"
    },
    "tags": []
   },
   "outputs": [],
   "source": [
    "# Normalize the data\n",
    "X_train = X_train / 255.0\n",
    "test = test / 255.0"
   ]
  },
  {
   "cell_type": "code",
   "execution_count": 9,
   "metadata": {
    "execution": {
     "iopub.execute_input": "2021-01-20T02:34:14.883623Z",
     "iopub.status.busy": "2021-01-20T02:34:14.882636Z",
     "iopub.status.idle": "2021-01-20T02:34:14.885927Z",
     "shell.execute_reply": "2021-01-20T02:34:14.885281Z"
    },
    "papermill": {
     "duration": 0.028643,
     "end_time": "2021-01-20T02:34:14.886044",
     "exception": false,
     "start_time": "2021-01-20T02:34:14.857401",
     "status": "completed"
    },
    "tags": []
   },
   "outputs": [],
   "source": [
    "# Reshape image in 3 dimensions (height = 28px, width = 28px , canal = 1)\n",
    "X_train = X_train.values.reshape(-1,28,28,1)\n",
    "test = test.values.reshape(-1,28,28,1)"
   ]
  },
  {
   "cell_type": "code",
   "execution_count": 10,
   "metadata": {
    "execution": {
     "iopub.execute_input": "2021-01-20T02:34:14.933730Z",
     "iopub.status.busy": "2021-01-20T02:34:14.932658Z",
     "iopub.status.idle": "2021-01-20T02:34:14.938251Z",
     "shell.execute_reply": "2021-01-20T02:34:14.937580Z"
    },
    "papermill": {
     "duration": 0.03251,
     "end_time": "2021-01-20T02:34:14.938361",
     "exception": false,
     "start_time": "2021-01-20T02:34:14.905851",
     "status": "completed"
    },
    "tags": []
   },
   "outputs": [],
   "source": [
    "\n",
    "# Encode labels to one hot vectors (ex : 2 -> [0,0,1,0,0,0,0,0,0,0])\n",
    "Y_train = to_categorical(Y_train, num_classes = 10)"
   ]
  },
  {
   "cell_type": "code",
   "execution_count": 11,
   "metadata": {
    "execution": {
     "iopub.execute_input": "2021-01-20T02:34:14.982469Z",
     "iopub.status.busy": "2021-01-20T02:34:14.981788Z",
     "iopub.status.idle": "2021-01-20T02:34:14.985218Z",
     "shell.execute_reply": "2021-01-20T02:34:14.985731Z"
    },
    "papermill": {
     "duration": 0.027286,
     "end_time": "2021-01-20T02:34:14.985900",
     "exception": false,
     "start_time": "2021-01-20T02:34:14.958614",
     "status": "completed"
    },
    "tags": []
   },
   "outputs": [],
   "source": [
    "# Set the random seed\n",
    "random_seed = 2"
   ]
  },
  {
   "cell_type": "code",
   "execution_count": 12,
   "metadata": {
    "execution": {
     "iopub.execute_input": "2021-01-20T02:34:15.030023Z",
     "iopub.status.busy": "2021-01-20T02:34:15.029323Z",
     "iopub.status.idle": "2021-01-20T02:34:15.904150Z",
     "shell.execute_reply": "2021-01-20T02:34:15.905261Z"
    },
    "papermill": {
     "duration": 0.899203,
     "end_time": "2021-01-20T02:34:15.905478",
     "exception": false,
     "start_time": "2021-01-20T02:34:15.006275",
     "status": "completed"
    },
    "tags": []
   },
   "outputs": [
    {
     "name": "stdout",
     "output_type": "stream",
     "text": [
      "[[[[0.]\n",
      "   [0.]\n",
      "   [0.]\n",
      "   ...\n",
      "   [0.]\n",
      "   [0.]\n",
      "   [0.]]\n",
      "\n",
      "  [[0.]\n",
      "   [0.]\n",
      "   [0.]\n",
      "   ...\n",
      "   [0.]\n",
      "   [0.]\n",
      "   [0.]]\n",
      "\n",
      "  [[0.]\n",
      "   [0.]\n",
      "   [0.]\n",
      "   ...\n",
      "   [0.]\n",
      "   [0.]\n",
      "   [0.]]\n",
      "\n",
      "  ...\n",
      "\n",
      "  [[0.]\n",
      "   [0.]\n",
      "   [0.]\n",
      "   ...\n",
      "   [0.]\n",
      "   [0.]\n",
      "   [0.]]\n",
      "\n",
      "  [[0.]\n",
      "   [0.]\n",
      "   [0.]\n",
      "   ...\n",
      "   [0.]\n",
      "   [0.]\n",
      "   [0.]]\n",
      "\n",
      "  [[0.]\n",
      "   [0.]\n",
      "   [0.]\n",
      "   ...\n",
      "   [0.]\n",
      "   [0.]\n",
      "   [0.]]]\n",
      "\n",
      "\n",
      " [[[0.]\n",
      "   [0.]\n",
      "   [0.]\n",
      "   ...\n",
      "   [0.]\n",
      "   [0.]\n",
      "   [0.]]\n",
      "\n",
      "  [[0.]\n",
      "   [0.]\n",
      "   [0.]\n",
      "   ...\n",
      "   [0.]\n",
      "   [0.]\n",
      "   [0.]]\n",
      "\n",
      "  [[0.]\n",
      "   [0.]\n",
      "   [0.]\n",
      "   ...\n",
      "   [0.]\n",
      "   [0.]\n",
      "   [0.]]\n",
      "\n",
      "  ...\n",
      "\n",
      "  [[0.]\n",
      "   [0.]\n",
      "   [0.]\n",
      "   ...\n",
      "   [0.]\n",
      "   [0.]\n",
      "   [0.]]\n",
      "\n",
      "  [[0.]\n",
      "   [0.]\n",
      "   [0.]\n",
      "   ...\n",
      "   [0.]\n",
      "   [0.]\n",
      "   [0.]]\n",
      "\n",
      "  [[0.]\n",
      "   [0.]\n",
      "   [0.]\n",
      "   ...\n",
      "   [0.]\n",
      "   [0.]\n",
      "   [0.]]]\n",
      "\n",
      "\n",
      " [[[0.]\n",
      "   [0.]\n",
      "   [0.]\n",
      "   ...\n",
      "   [0.]\n",
      "   [0.]\n",
      "   [0.]]\n",
      "\n",
      "  [[0.]\n",
      "   [0.]\n",
      "   [0.]\n",
      "   ...\n",
      "   [0.]\n",
      "   [0.]\n",
      "   [0.]]\n",
      "\n",
      "  [[0.]\n",
      "   [0.]\n",
      "   [0.]\n",
      "   ...\n",
      "   [0.]\n",
      "   [0.]\n",
      "   [0.]]\n",
      "\n",
      "  ...\n",
      "\n",
      "  [[0.]\n",
      "   [0.]\n",
      "   [0.]\n",
      "   ...\n",
      "   [0.]\n",
      "   [0.]\n",
      "   [0.]]\n",
      "\n",
      "  [[0.]\n",
      "   [0.]\n",
      "   [0.]\n",
      "   ...\n",
      "   [0.]\n",
      "   [0.]\n",
      "   [0.]]\n",
      "\n",
      "  [[0.]\n",
      "   [0.]\n",
      "   [0.]\n",
      "   ...\n",
      "   [0.]\n",
      "   [0.]\n",
      "   [0.]]]\n",
      "\n",
      "\n",
      " ...\n",
      "\n",
      "\n",
      " [[[0.]\n",
      "   [0.]\n",
      "   [0.]\n",
      "   ...\n",
      "   [0.]\n",
      "   [0.]\n",
      "   [0.]]\n",
      "\n",
      "  [[0.]\n",
      "   [0.]\n",
      "   [0.]\n",
      "   ...\n",
      "   [0.]\n",
      "   [0.]\n",
      "   [0.]]\n",
      "\n",
      "  [[0.]\n",
      "   [0.]\n",
      "   [0.]\n",
      "   ...\n",
      "   [0.]\n",
      "   [0.]\n",
      "   [0.]]\n",
      "\n",
      "  ...\n",
      "\n",
      "  [[0.]\n",
      "   [0.]\n",
      "   [0.]\n",
      "   ...\n",
      "   [0.]\n",
      "   [0.]\n",
      "   [0.]]\n",
      "\n",
      "  [[0.]\n",
      "   [0.]\n",
      "   [0.]\n",
      "   ...\n",
      "   [0.]\n",
      "   [0.]\n",
      "   [0.]]\n",
      "\n",
      "  [[0.]\n",
      "   [0.]\n",
      "   [0.]\n",
      "   ...\n",
      "   [0.]\n",
      "   [0.]\n",
      "   [0.]]]\n",
      "\n",
      "\n",
      " [[[0.]\n",
      "   [0.]\n",
      "   [0.]\n",
      "   ...\n",
      "   [0.]\n",
      "   [0.]\n",
      "   [0.]]\n",
      "\n",
      "  [[0.]\n",
      "   [0.]\n",
      "   [0.]\n",
      "   ...\n",
      "   [0.]\n",
      "   [0.]\n",
      "   [0.]]\n",
      "\n",
      "  [[0.]\n",
      "   [0.]\n",
      "   [0.]\n",
      "   ...\n",
      "   [0.]\n",
      "   [0.]\n",
      "   [0.]]\n",
      "\n",
      "  ...\n",
      "\n",
      "  [[0.]\n",
      "   [0.]\n",
      "   [0.]\n",
      "   ...\n",
      "   [0.]\n",
      "   [0.]\n",
      "   [0.]]\n",
      "\n",
      "  [[0.]\n",
      "   [0.]\n",
      "   [0.]\n",
      "   ...\n",
      "   [0.]\n",
      "   [0.]\n",
      "   [0.]]\n",
      "\n",
      "  [[0.]\n",
      "   [0.]\n",
      "   [0.]\n",
      "   ...\n",
      "   [0.]\n",
      "   [0.]\n",
      "   [0.]]]\n",
      "\n",
      "\n",
      " [[[0.]\n",
      "   [0.]\n",
      "   [0.]\n",
      "   ...\n",
      "   [0.]\n",
      "   [0.]\n",
      "   [0.]]\n",
      "\n",
      "  [[0.]\n",
      "   [0.]\n",
      "   [0.]\n",
      "   ...\n",
      "   [0.]\n",
      "   [0.]\n",
      "   [0.]]\n",
      "\n",
      "  [[0.]\n",
      "   [0.]\n",
      "   [0.]\n",
      "   ...\n",
      "   [0.]\n",
      "   [0.]\n",
      "   [0.]]\n",
      "\n",
      "  ...\n",
      "\n",
      "  [[0.]\n",
      "   [0.]\n",
      "   [0.]\n",
      "   ...\n",
      "   [0.]\n",
      "   [0.]\n",
      "   [0.]]\n",
      "\n",
      "  [[0.]\n",
      "   [0.]\n",
      "   [0.]\n",
      "   ...\n",
      "   [0.]\n",
      "   [0.]\n",
      "   [0.]]\n",
      "\n",
      "  [[0.]\n",
      "   [0.]\n",
      "   [0.]\n",
      "   ...\n",
      "   [0.]\n",
      "   [0.]\n",
      "   [0.]]]]\n"
     ]
    }
   ],
   "source": [
    "# Split the train and the validation set for the fitting\n",
    "X_train, X_val, Y_train, Y_val = train_test_split(X_train, Y_train, test_size = 0.1, random_state=random_seed)\n",
    "print(X_train[1:10])"
   ]
  },
  {
   "cell_type": "code",
   "execution_count": 13,
   "metadata": {
    "execution": {
     "iopub.execute_input": "2021-01-20T02:34:15.962421Z",
     "iopub.status.busy": "2021-01-20T02:34:15.961323Z",
     "iopub.status.idle": "2021-01-20T02:34:16.244223Z",
     "shell.execute_reply": "2021-01-20T02:34:16.244707Z"
    },
    "papermill": {
     "duration": 0.316078,
     "end_time": "2021-01-20T02:34:16.244871",
     "exception": false,
     "start_time": "2021-01-20T02:34:15.928793",
     "status": "completed"
    },
    "tags": []
   },
   "outputs": [
    {
     "data": {
      "image/png": "[encoded data removed]",
      "text/plain": [
       "<Figure size 432x288 with 1 Axes>"
      ]
     },
     "metadata": {},
     "output_type": "display_data"
    }
   ],
   "source": [
    "# Some examples\n",
    "g = plt.imshow(X_train[1][:,:,0])\n",
    "\n"
   ]
  },
  {
   "cell_type": "code",
   "execution_count": 14,
   "metadata": {
    "execution": {
     "iopub.execute_input": "2021-01-20T02:34:16.293647Z",
     "iopub.status.busy": "2021-01-20T02:34:16.292576Z",
     "iopub.status.idle": "2021-01-20T02:34:16.552059Z",
     "shell.execute_reply": "2021-01-20T02:34:16.552745Z"
    },
    "papermill": {
     "duration": 0.286256,
     "end_time": "2021-01-20T02:34:16.552919",
     "exception": false,
     "start_time": "2021-01-20T02:34:16.266663",
     "status": "completed"
    },
    "tags": []
   },
   "outputs": [],
   "source": [
    "\n",
    "# Set the CNN model \n",
    "# my CNN architechture is In -> [[Conv2D->relu]*2 -> MaxPool2D -> Dropout]*2 -> Flatten -> Dense -> Dropout -> Out\n",
    "\n",
    "model = Sequential()\n",
    "\n",
    "model.add(Conv2D(filters = 32, kernel_size = (5,5),padding = 'Same', \n",
    "                 activation ='relu', input_shape = (28,28,1)))\n",
    "model.add(Conv2D(filters = 32, kernel_size = (5,5),padding = 'Same', \n",
    "                 activation ='relu'))\n",
    "model.add(MaxPool2D(pool_size=(2,2)))\n",
    "model.add(Dropout(0.25))\n",
    "\n",
    "\n",
    "model.add(Conv2D(filters = 64, kernel_size = (3,3),padding = 'Same', \n",
    "                 activation ='relu'))\n",
    "model.add(Conv2D(filters = 64, kernel_size = (3,3),padding = 'Same', \n",
    "                 activation ='relu'))\n",
    "model.add(MaxPool2D(pool_size=(2,2), strides=(2,2)))\n",
    "model.add(Dropout(0.25))\n",
    "\n",
    "\n",
    "model.add(Flatten())\n",
    "model.add(Dense(256, activation = \"relu\"))\n",
    "model.add(Dropout(0.5))\n",
    "model.add(Dense(10, activation = \"softmax\"))"
   ]
  },
  {
   "cell_type": "code",
   "execution_count": 15,
   "metadata": {
    "execution": {
     "iopub.execute_input": "2021-01-20T02:34:16.600945Z",
     "iopub.status.busy": "2021-01-20T02:34:16.599913Z",
     "iopub.status.idle": "2021-01-20T02:34:16.604664Z",
     "shell.execute_reply": "2021-01-20T02:34:16.605186Z"
    },
    "papermill": {
     "duration": 0.030786,
     "end_time": "2021-01-20T02:34:16.605335",
     "exception": false,
     "start_time": "2021-01-20T02:34:16.574549",
     "status": "completed"
    },
    "tags": []
   },
   "outputs": [],
   "source": [
    "# Define the optimizer\n",
    "optimizer = RMSprop(lr=0.001, rho=0.9, epsilon=1e-08, decay=0.0)"
   ]
  },
  {
   "cell_type": "code",
   "execution_count": 16,
   "metadata": {
    "execution": {
     "iopub.execute_input": "2021-01-20T02:34:16.654913Z",
     "iopub.status.busy": "2021-01-20T02:34:16.653918Z",
     "iopub.status.idle": "2021-01-20T02:34:16.669147Z",
     "shell.execute_reply": "2021-01-20T02:34:16.669645Z"
    },
    "papermill": {
     "duration": 0.041474,
     "end_time": "2021-01-20T02:34:16.669799",
     "exception": false,
     "start_time": "2021-01-20T02:34:16.628325",
     "status": "completed"
    },
    "tags": []
   },
   "outputs": [],
   "source": [
    "# Compile the model\n",
    "model.compile(optimizer = optimizer , loss = \"categorical_crossentropy\", metrics=[\"accuracy\"])"
   ]
  },
  {
   "cell_type": "code",
   "execution_count": 17,
   "metadata": {
    "execution": {
     "iopub.execute_input": "2021-01-20T02:34:16.719446Z",
     "iopub.status.busy": "2021-01-20T02:34:16.718360Z",
     "iopub.status.idle": "2021-01-20T02:34:16.724162Z",
     "shell.execute_reply": "2021-01-20T02:34:16.724757Z"
    },
    "papermill": {
     "duration": 0.032489,
     "end_time": "2021-01-20T02:34:16.724945",
     "exception": false,
     "start_time": "2021-01-20T02:34:16.692456",
     "status": "completed"
    },
    "tags": []
   },
   "outputs": [],
   "source": [
    "\n",
    "# Set a learning rate annealer\n",
    "learning_rate_reduction = ReduceLROnPlateau(monitor='val_acc', \n",
    "                                            patience=3, \n",
    "                                            verbose=1, \n",
    "                                            factor=0.5, \n",
    "                                            min_lr=0.00001)"
   ]
  },
  {
   "cell_type": "code",
   "execution_count": 18,
   "metadata": {
    "execution": {
     "iopub.execute_input": "2021-01-20T02:34:16.775413Z",
     "iopub.status.busy": "2021-01-20T02:34:16.774707Z",
     "iopub.status.idle": "2021-01-20T02:34:16.780219Z",
     "shell.execute_reply": "2021-01-20T02:34:16.779510Z"
    },
    "papermill": {
     "duration": 0.032235,
     "end_time": "2021-01-20T02:34:16.780345",
     "exception": false,
     "start_time": "2021-01-20T02:34:16.748110",
     "status": "completed"
    },
    "tags": []
   },
   "outputs": [],
   "source": [
    "epochs = 1 # Turn epochs to 30 to get 0.9967 accuracy\n",
    "batch_size=86"
   ]
  },
  {
   "cell_type": "code",
   "execution_count": 19,
   "metadata": {
    "execution": {
     "iopub.execute_input": "2021-01-20T02:34:16.835186Z",
     "iopub.status.busy": "2021-01-20T02:34:16.834243Z",
     "iopub.status.idle": "2021-01-20T02:36:41.928222Z",
     "shell.execute_reply": "2021-01-20T02:36:41.929050Z"
    },
    "papermill": {
     "duration": 145.124713,
     "end_time": "2021-01-20T02:36:41.929260",
     "exception": false,
     "start_time": "2021-01-20T02:34:16.804547",
     "status": "completed"
    },
    "tags": []
   },
   "outputs": [
    {
     "name": "stdout",
     "output_type": "stream",
     "text": [
      "440/440 - 143s - loss: 0.2352 - accuracy: 0.9251 - val_loss: 0.0774 - val_accuracy: 0.9767\n"
     ]
    }
   ],
   "source": [
    "history = model.fit(X_train, Y_train, batch_size = batch_size, epochs = epochs, \n",
    "         validation_data = (X_val, Y_val), verbose = 2)"
   ]
  },
  {
   "cell_type": "code",
   "execution_count": 20,
   "metadata": {
    "execution": {
     "iopub.execute_input": "2021-01-20T02:36:41.980421Z",
     "iopub.status.busy": "2021-01-20T02:36:41.979768Z",
     "iopub.status.idle": "2021-01-20T02:36:45.983743Z",
     "shell.execute_reply": "2021-01-20T02:36:45.984654Z"
    },
    "papermill": {
     "duration": 4.031488,
     "end_time": "2021-01-20T02:36:45.984937",
     "exception": false,
     "start_time": "2021-01-20T02:36:41.953449",
     "status": "completed"
    },
    "tags": []
   },
   "outputs": [
    {
     "name": "stdout",
     "output_type": "stream",
     "text": [
      "[[410   0   0   0   0   0   0   0   0   1]\n",
      " [  0 481   1   1   0   0   0   0   2   0]\n",
      " [  2   4 388   1   1   0   1   2   3   1]\n",
      " [  2   0   0 410   0   0   0   0   4   2]\n",
      " [  0   2   0   0 451   0   1   0   0   7]\n",
      " [  6   0   0   7   0 349   6   0   1   3]\n",
      " [  6   1   0   0   0   0 405   0   1   0]\n",
      " [  2   2   2   0   0   0   0 438   1   1]\n",
      " [  1   3   1   0   1   0   2   0 371   3]\n",
      " [  1   1   0   1   3   0   0   3   1 399]]\n"
     ]
    }
   ],
   "source": [
    "# Predict the values from the validation dataset\n",
    "Y_pred = model.predict(X_val)\n",
    "# Convert predictions classes to one hot vectors \n",
    "Y_pred_classes = np.argmax(Y_pred,axis = 1) \n",
    "# Convert validation observations to one hot vectors\n",
    "Y_true = np.argmax(Y_val,axis = 1) \n",
    "# compute the confusion matrix\n",
    "confusion_mtx = confusion_matrix(Y_true, Y_pred_classes) \n",
    "print(confusion_mtx)\n"
   ]
  },
  {
   "cell_type": "code",
   "execution_count": 21,
   "metadata": {
    "execution": {
     "iopub.execute_input": "2021-01-20T02:36:46.071031Z",
     "iopub.status.busy": "2021-01-20T02:36:46.069129Z",
     "iopub.status.idle": "2021-01-20T02:36:46.079723Z",
     "shell.execute_reply": "2021-01-20T02:36:46.078980Z"
    },
    "papermill": {
     "duration": 0.05335,
     "end_time": "2021-01-20T02:36:46.079849",
     "exception": false,
     "start_time": "2021-01-20T02:36:46.026499",
     "status": "completed"
    },
    "tags": []
   },
   "outputs": [
    {
     "data": {
      "text/plain": [
       "array([6, 9, 5, 7, 9, 2, 3, 3, 7, 0, 6, 9, 1, 8, 2, 4, 1, 9, 4, 1])"
      ]
     },
     "execution_count": 21,
     "metadata": {},
     "output_type": "execute_result"
    }
   ],
   "source": [
    "Y_true[0:20]\n"
   ]
  },
  {
   "cell_type": "code",
   "execution_count": 22,
   "metadata": {
    "execution": {
     "iopub.execute_input": "2021-01-20T02:36:46.146137Z",
     "iopub.status.busy": "2021-01-20T02:36:46.144594Z",
     "iopub.status.idle": "2021-01-20T02:36:46.154756Z",
     "shell.execute_reply": "2021-01-20T02:36:46.155486Z"
    },
    "papermill": {
     "duration": 0.040789,
     "end_time": "2021-01-20T02:36:46.155650",
     "exception": false,
     "start_time": "2021-01-20T02:36:46.114861",
     "status": "completed"
    },
    "tags": []
   },
   "outputs": [
    {
     "data": {
      "text/plain": [
       "array([6, 9, 5, 7, 9, 2, 3, 8, 7, 0, 6, 9, 1, 8, 2, 4, 1, 9, 4, 1])"
      ]
     },
     "execution_count": 22,
     "metadata": {},
     "output_type": "execute_result"
    }
   ],
   "source": [
    "Y_pred_classes[0:20]"
   ]
  },
  {
   "cell_type": "code",
   "execution_count": 23,
   "metadata": {
    "execution": {
     "iopub.execute_input": "2021-01-20T02:36:46.220235Z",
     "iopub.status.busy": "2021-01-20T02:36:46.215753Z",
     "iopub.status.idle": "2021-01-20T02:37:10.558227Z",
     "shell.execute_reply": "2021-01-20T02:37:10.558918Z"
    },
    "papermill": {
     "duration": 24.377413,
     "end_time": "2021-01-20T02:37:10.559079",
     "exception": false,
     "start_time": "2021-01-20T02:36:46.181666",
     "status": "completed"
    },
    "tags": []
   },
   "outputs": [],
   "source": [
    "# predict results\n",
    "results = model.predict(test)\n",
    "\n",
    "# select the indix with the maximum probability\n",
    "results = np.argmax(results,axis = 1)\n",
    "\n",
    "results = pd.Series(results,name=\"Label\")"
   ]
  },
  {
   "cell_type": "code",
   "execution_count": 24,
   "metadata": {
    "execution": {
     "iopub.execute_input": "2021-01-20T02:37:10.612785Z",
     "iopub.status.busy": "2021-01-20T02:37:10.612156Z",
     "iopub.status.idle": "2021-01-20T02:37:10.931385Z",
     "shell.execute_reply": "2021-01-20T02:37:10.930525Z"
    },
    "papermill": {
     "duration": 0.346795,
     "end_time": "2021-01-20T02:37:10.931508",
     "exception": false,
     "start_time": "2021-01-20T02:37:10.584713",
     "status": "completed"
    },
    "tags": []
   },
   "outputs": [],
   "source": [
    "submission = pd.concat([pd.Series(range(1,28001),name = \"ImageId\"),results],axis = 1)\n",
    "\n",
    "submission.to_csv(\"cnn_mnist_datagen.csv\",index=False)"
   ]
  }
 ],
 "metadata": {
  "kernelspec": {
   "display_name": "Python 3",
   "language": "python",
   "name": "python3"
  },
  "language_info": {
   "codemirror_mode": {
    "name": "ipython",
    "version": 3
   },
   "file_extension": ".py",
   "mimetype": "text/x-python",
   "name": "python",
   "nbconvert_exporter": "python",
   "pygments_lexer": "ipython3",
   "version": "3.7.6"
  },
  "papermill": {
   "duration": 199.179991,
   "end_time": "2021-01-20T02:37:11.992821",
   "environment_variables": {},
   "exception": null,
   "input_path": "__notebook__.ipynb",
   "output_path": "__notebook__.ipynb",
   "parameters": {},
   "start_time": "2021-01-20T02:33:52.812830",
   "version": "2.1.0"
  }
 },
 "nbformat": 4,
 "nbformat_minor": 4
}
